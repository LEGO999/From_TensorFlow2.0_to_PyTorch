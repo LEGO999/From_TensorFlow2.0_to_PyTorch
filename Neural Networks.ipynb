{
 "cells": [
  {
   "cell_type": "code",
   "execution_count": 15,
   "metadata": {},
   "outputs": [
    {
     "name": "stdout",
     "output_type": "stream",
     "text": [
      "Net(\n",
      "  (conv1): Conv2d(1, 6, kernel_size=(3, 3), stride=(1, 1))\n",
      "  (conv2): Conv2d(6, 16, kernel_size=(3, 3), stride=(1, 1))\n",
      "  (fc1): Linear(in_features=576, out_features=120, bias=True)\n",
      "  (fc2): Linear(in_features=120, out_features=84, bias=True)\n",
      "  (fc3): Linear(in_features=84, out_features=10, bias=True)\n",
      ")\n"
     ]
    }
   ],
   "source": [
    "import torch\n",
    "import torch.nn as nn\n",
    "# 这里的functional 相当于 tf.nn，相当于是一些不需要construct的基本操作\n",
    "import torch.nn.functional as F\n",
    "\n",
    "class Net(nn.Module):\n",
    "    \n",
    "    def __init__(self):\n",
    "        super(Net, self).__init__()\n",
    "        # 在TF2中定义model无需定义in_channel，但是这里需要定义\n",
    "        # 三个参数为in_channel, out_channel, kernel_size\n",
    "        # 此处默认stride为1, padding为0\n",
    "        self.conv1 = nn.Conv2d(1, 6, 3)\n",
    "        self.conv2 = nn.Conv2d(6, 16, 3)\n",
    "        # spatial resoultion 为6*6, 但是因为没有padding，实际输出应该为5*5?, channel数为16\n",
    "        self.fc1 = nn.Linear(16*6*6, 120)\n",
    "        self.fc2 = nn.Linear(120, 84)\n",
    "        self.fc3 = nn.Linear(84, 10)\n",
    "    def forward(self, x):\n",
    "#         用一个2*2的kernel作卷积\n",
    "        x = F.max_pool2d(F.relu(self.conv1(x)), (2,2))\n",
    "        x = F.max_pool2d(F.relu(self.conv2(x)), 2)\n",
    "#         相当于TF2中的flatten layer，但是这里需要手动reshape\n",
    "        x = x.view(-1, self.num_flat_features(x))\n",
    "        x = F.relu(self.fc1(x))\n",
    "        x = F.relu(self.fc2(x))\n",
    "        x = F.relu(self.fc3(x))\n",
    "        return x\n",
    "#     相当于手动创建一个TF2 中的 flatten layer\n",
    "    def num_flat_features(self, x):\n",
    "#       注意: 这里size是一个method, 是size(), 并非参数\n",
    "        size = x.size()[1:]\n",
    "        num_features = 1\n",
    "        for s in size:\n",
    "            num_features *= s\n",
    "        return num_features\n",
    "net = Net()\n",
    "print(net)"
   ]
  },
  {
   "cell_type": "code",
   "execution_count": 16,
   "metadata": {},
   "outputs": [
    {
     "name": "stdout",
     "output_type": "stream",
     "text": [
      "10\n",
      "[torch.Size([6, 1, 3, 3]), torch.Size([6]), torch.Size([16, 6, 3, 3]), torch.Size([16]), torch.Size([120, 576]), torch.Size([120]), torch.Size([84, 120]), torch.Size([84]), torch.Size([10, 84]), torch.Size([10])]\n",
      "<class 'torch.nn.parameter.Parameter'>\n"
     ]
    }
   ],
   "source": [
    "# net.parameters() 会返回一个generator，不能被print，只能用list()以后才能被print，这是一个method，而并非是一个property\n",
    "# 这个parameters 有点像TF2 中model.trainable_variables()\n",
    "params = list(net.parameters())\n",
    "# params = net.parameters()\n",
    "print(len(params))\n",
    "print([i.size() for i in params])\n",
    "# 之所以有10个大的parameters,是因为有2个conv,他们有2个kernel以及对应的bias,一共四个参数,\n",
    "# 3层MLP,他们有3个weights以及对应的bias,共3个参数\n",
    "print(type(params[0]))\n"
   ]
  },
  {
   "cell_type": "code",
   "execution_count": 19,
   "metadata": {},
   "outputs": [
    {
     "name": "stdout",
     "output_type": "stream",
     "text": [
      "tensor([[0.0000, 0.0000, 0.0860, 0.0350, 0.0938, 0.0043, 0.0000, 0.0000, 0.1006,\n",
      "         0.0465]], grad_fn=<ReluBackward0>)\n",
      "torch.Size([1, 10])\n"
     ]
    }
   ],
   "source": [
    "# PyTorch 中 4D Tensor (batch_size, channels, height, width)\n",
    "# TF2 中的 4D Tensor (batch_size, height, width, channels)\n",
    "# 两个必须要区分\n",
    "rand_in = torch.randn(1, 1, 32, 32)\n",
    "# nn.Module和TF2 model 一样,都仅支持mini batch operations, i.e 所有的I/O都必须包含batch_size这个dimension\n",
    "# single sample 中增加batch_size 的方法 Tensor.unsequeeze(0)\n",
    "out = net(rand_in)\n",
    "print(out)\n",
    "print(out.size())"
   ]
  },
  {
   "cell_type": "code",
   "execution_count": 18,
   "metadata": {},
   "outputs": [],
   "source": [
    "# nn.Module.zero_grad()方法能够使network中清除network之前的gradients\n",
    "net.zero_grad()\n",
    "# 假设一个随机的gradient,和网络输出一样的dimension,便能够开始backpropagation\n",
    "out.backward(torch.randn(1,10))"
   ]
  },
  {
   "cell_type": "code",
   "execution_count": 20,
   "metadata": {},
   "outputs": [
    {
     "name": "stdout",
     "output_type": "stream",
     "text": [
      "tensor(0.9075, grad_fn=<MseLossBackward>)\n"
     ]
    }
   ],
   "source": [
    "output = net(rand_in)\n",
    "target = torch.randn(10)\n",
    "target = target.view(1, -1)\n",
    "# 相当于是新建MSELoss的一个instance\n",
    "criterion = nn.MSELoss() \n",
    "\n",
    "loss = criterion(output, target)\n",
    "print(loss)"
   ]
  },
  {
   "cell_type": "code",
   "execution_count": 39,
   "metadata": {},
   "outputs": [
    {
     "name": "stdout",
     "output_type": "stream",
     "text": [
      "0 <MseLossBackward object at 0x7ff6056affd0>\n",
      "1 <ReluBackward0 object at 0x7ff60df0c748>\n",
      "2 <AddmmBackward object at 0x7ff6132ee780>\n",
      "3 <AccumulateGrad object at 0x7ff6132eec50>\n",
      "3 <ReluBackward0 object at 0x7ff605541160>\n",
      "4 <AddmmBackward object at 0x7ff605541dd8>\n",
      "5 <AccumulateGrad object at 0x7ff605541f60>\n",
      "5 <ReluBackward0 object at 0x7ff605541e80>\n",
      "6 <AddmmBackward object at 0x7ff6055410f0>\n",
      "7 <AccumulateGrad object at 0x7ff605541d68>\n",
      "7 <ViewBackward object at 0x7ff605541780>\n",
      "8 <MaxPool2DWithIndicesBackward object at 0x7ff60553c780>\n",
      "9 <ReluBackward0 object at 0x7ff60553c978>\n",
      "10 <MkldnnConvolutionBackward object at 0x7ff60553c828>\n",
      "11 <MaxPool2DWithIndicesBackward object at 0x7ff60553c4e0>\n",
      "12 <ReluBackward0 object at 0x7ff60553ce80>\n",
      "13 <MkldnnConvolutionBackward object at 0x7ff6055593c8>\n",
      "14 <AccumulateGrad object at 0x7ff6055596d8>\n",
      "14 <AccumulateGrad object at 0x7ff6055592e8>\n",
      "11 <AccumulateGrad object at 0x7ff60553c710>\n",
      "11 <AccumulateGrad object at 0x7ff60553c400>\n",
      "7 <TBackward object at 0x7ff605541b00>\n",
      "8 <AccumulateGrad object at 0x7ff60553c780>\n",
      "5 <TBackward object at 0x7ff605541550>\n",
      "6 <AccumulateGrad object at 0x7ff6055410f0>\n",
      "3 <TBackward object at 0x7ff605541278>\n",
      "4 <AccumulateGrad object at 0x7ff605541dd8>\n"
     ]
    }
   ],
   "source": [
    "# 查看gradient function 组成的computation graph，每个grad_fn都有next_functions这个功能，以查看下一个grad_fn\n",
    "print(loss.grad_fn)\n",
    "print(loss.grad_fn.next_functions[0][0])\n",
    "print(loss.grad_fn.next_functions[0][0].next_functions[0][0])\n",
    "# 利用recursive method 查看computation graph的方法\n",
    "def print_graph(g, level=0):\n",
    "    if g == None: return\n",
    "    print('{}'.format(level), g)\n",
    "    for subg in g.next_functions:\n",
    "        print_graph(subg[0], level+1)\n",
    "\n",
    "print_graph(loss.grad_fn, 0)"
   ]
  },
  {
   "cell_type": "code",
   "execution_count": 37,
   "metadata": {},
   "outputs": [
    {
     "name": "stdout",
     "output_type": "stream",
     "text": [
      "conv1.bias.grad before backward\n",
      "tensor([0., 0., 0., 0., 0., 0.])\n",
      "conv1.bias.grad after backward\n",
      "tensor([-0.0019,  0.0018, -0.0090,  0.0042, -0.0016,  0.0006])\n"
     ]
    }
   ],
   "source": [
    "net.zero_grad()\n",
    "print('conv1.bias.grad before backward')\n",
    "print(net.conv1.bias.grad)\n",
    "\n",
    "loss.backward()\n",
    "print('conv1.bias.grad after backward')\n",
    "print(net.conv1.bias.grad)"
   ]
  },
  {
   "cell_type": "code",
   "execution_count": 41,
   "metadata": {},
   "outputs": [],
   "source": [
    "# 这里演示的是不采用任何optimizer，直接进行SGD的操作\n",
    "learning_rate = 0.01\n",
    "# 这里.parameters() 返回的是一个generator，而f就是tensor.nn.parameter.Parameter，是Tensor的subclass\n",
    "# sub_() 代表Tensor 的 in-place subtraction 操作\n",
    "# 既然f是Tensor的subclass，自然也具有Tensor.grad求出grad的操作\n",
    "# Tensor.data 只包含 array 本身，不然还可能包括grad_fn\n",
    "for f in net.parameters():\n",
    "    f.data.sub_(f.grad.data * learning_rate)"
   ]
  },
  {
   "cell_type": "code",
   "execution_count": null,
   "metadata": {},
   "outputs": [],
   "source": [
    "import torch.optim as optim\n",
    "\n",
    "optimizer = optim.SGD(net.parameters(), lr=0.01)\n",
    "# gradients会accumulate的，所以需要清零\n",
    "optimizer.zero_grad()\n",
    "output = net(input)\n",
    "loss = criterion(output, target)\n",
    "# 求每个parameter的gradient\n",
    "loss.backward()\n",
    "# optimize network parameters\n",
    "optimizer.step()"
   ]
  }
 ],
 "metadata": {
  "kernelspec": {
   "display_name": "Python 3",
   "language": "python",
   "name": "python3"
  },
  "language_info": {
   "codemirror_mode": {
    "name": "ipython",
    "version": 3
   },
   "file_extension": ".py",
   "mimetype": "text/x-python",
   "name": "python",
   "nbconvert_exporter": "python",
   "pygments_lexer": "ipython3",
   "version": "3.6.9"
  },
  "toc": {
   "base_numbering": 1,
   "nav_menu": {},
   "number_sections": true,
   "sideBar": true,
   "skip_h1_title": false,
   "title_cell": "Table of Contents",
   "title_sidebar": "Contents",
   "toc_cell": false,
   "toc_position": {},
   "toc_section_display": true,
   "toc_window_display": false
  }
 },
 "nbformat": 4,
 "nbformat_minor": 4
}
